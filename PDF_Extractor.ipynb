{
  "nbformat": 4,
  "nbformat_minor": 0,
  "metadata": {
    "colab": {
      "provenance": []
    },
    "kernelspec": {
      "name": "python3",
      "display_name": "Python 3"
    },
    "language_info": {
      "name": "python"
    }
  },
  "cells": [
    {
      "cell_type": "code",
      "execution_count": 4,
      "metadata": {
        "colab": {
          "base_uri": "https://localhost:8080/"
        },
        "id": "hw-AhLJGWL0V",
        "outputId": "1c43daea-b206-4862-c9b3-6f331211d7c1"
      },
      "outputs": [
        {
          "output_type": "stream",
          "name": "stdout",
          "text": [
            "Collecting PyPDF2\n",
            "  Downloading pypdf2-3.0.1-py3-none-any.whl (232 kB)\n",
            "\u001b[?25l     \u001b[90m━━━━━━━━━━━━━━━━━━━━━━━━━━━━━━━━━━━━━━━━\u001b[0m \u001b[32m0.0/232.6 kB\u001b[0m \u001b[31m?\u001b[0m eta \u001b[36m-:--:--\u001b[0m\r\u001b[2K     \u001b[90m━━━━━━━━━━━━━━━━━━━━━━━━━━━━━━━━━━━━━━━\u001b[0m \u001b[32m232.6/232.6 kB\u001b[0m \u001b[31m7.8 MB/s\u001b[0m eta \u001b[36m0:00:00\u001b[0m\n",
            "\u001b[?25hInstalling collected packages: PyPDF2\n",
            "Successfully installed PyPDF2-3.0.1\n"
          ]
        }
      ],
      "source": [
        "!pip install PyPDF2\n",
        "import PyPDF2\n",
        "import re"
      ]
    },
    {
      "cell_type": "code",
      "source": [
        "def extract_from_pdf(pdf_path):\n",
        "    '''Extracts Data from the PDF file'''\n",
        "    file=open(pdf_path,'rb')\n",
        "    pdf_reader=PyPDF2.PdfReader(file)\n",
        "    content=''\n",
        "    for i in pdf_reader.pages:\n",
        "        content+=i.extract_text()\n",
        "    file.close()\n",
        "    return content"
      ],
      "metadata": {
        "id": "td7aBMM4WSmc"
      },
      "execution_count": 2,
      "outputs": []
    },
    {
      "cell_type": "code",
      "source": [
        "content=extract_from_pdf('/content/35564026.pdf')\n",
        "paragraphs=content.split('\\n\\n')\n",
        "# Extracting the Job Role\n",
        "job_role=paragraphs[0].split('\\n')[0]\n",
        "skills=[]\n",
        "education=''\n",
        "lines=re.split(r'[\\n,;]',paragraphs[0])\n",
        "lines2=re.split(r'[\\n\\n,\\n,:]',paragraphs[0])\n",
        "\n",
        "# Extraction of Skills from the extracted data\n",
        "for i,line in enumerate(lines):\n",
        "    if 'Skills' in line:\n",
        "        skills.append(lines[max(i+1,0):i+70])\n",
        "\n",
        "# Extraction of Education from the extracted data\n",
        "for i,line in enumerate(lines2):\n",
        "    if 'Education' in line:\n",
        "        education=(lines2[i+1:i+9])\n",
        "\n",
        "print(job_role)\n",
        "print(skills)\n",
        "print(education)\n",
        "with open('extracted_data.txt','+w') as file:\n",
        "    file.writelines('Job_role : '+job_role)\n",
        "    file.writelines('\\nSkills : '+str(skills))\n",
        "    file.writelines(\"\\nEducation : \"+str(education))"
      ],
      "metadata": {
        "colab": {
          "base_uri": "https://localhost:8080/"
        },
        "id": "U3200ZFXWbJ3",
        "outputId": "37789e1a-2065-4d14-da49-3cc9179cab11"
      },
      "execution_count": 5,
      "outputs": [
        {
          "output_type": "stream",
          "name": "stdout",
          "text": [
            "ASSISTANT MANAGER\n",
            "[['Proficient with most office equipment: fax machine', ' multi-functional device', ' multi-line phone', ' and Microsoft Office', 'Possess exceptional organizational', ' analytical', ' and time management skills as well as the ability to multitask', 'Self motivated', 'Excellent work ethic']]\n",
            "['Bachelors of Science Degree', ' ', '', ' ', 'Criminal Justice', ' ', '', ' ']\n"
          ]
        }
      ]
    }
  ]
}